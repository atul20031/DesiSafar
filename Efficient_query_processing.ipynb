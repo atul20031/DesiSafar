{
  "nbformat": 4,
  "nbformat_minor": 0,
  "metadata": {
    "colab": {
      "name": "Efficient query processing.ipynb",
      "provenance": [],
      "collapsed_sections": [],
      "machine_shape": "hm"
    },
    "kernelspec": {
      "display_name": "Python 3",
      "name": "python3"
    },
    "language_info": {
      "name": "python"
    },
    "accelerator": "GPU"
  },
  "cells": [
    {
      "cell_type": "code",
      "metadata": {
        "colab": {
          "base_uri": "https://localhost:8080/"
        },
        "id": "5HqdnMjwDwrY",
        "outputId": "e8b3bdd0-5c00-4838-eea7-1f0f05929f16"
      },
      "source": [
        "import pandas as pd\n",
        "import numpy as np\n",
        "from nltk.stem import WordNetLemmatizer \n",
        "from sklearn.feature_extraction.text import CountVectorizer ,TfidfVectorizer\n",
        "from sklearn.metrics.pairwise import cosine_similarity\n",
        "from gensim.models import Word2Vec\n",
        "from nltk.corpus import stopwords #Useful for getting a list of stopwords \n",
        "import math\n",
        "from scipy import spatial\n",
        "!pip install ipython-autotime\n",
        "\n",
        "%load_ext autotime"
      ],
      "execution_count": 1,
      "outputs": [
        {
          "output_type": "stream",
          "text": [
            "Collecting ipython-autotime\n",
            "  Downloading https://files.pythonhosted.org/packages/b4/c9/b413a24f759641bc27ef98c144b590023c8038dfb8a3f09e713e9dff12c1/ipython_autotime-0.3.1-py2.py3-none-any.whl\n",
            "Requirement already satisfied: ipython in /usr/local/lib/python3.7/dist-packages (from ipython-autotime) (5.5.0)\n",
            "Requirement already satisfied: traitlets>=4.2 in /usr/local/lib/python3.7/dist-packages (from ipython->ipython-autotime) (5.0.5)\n",
            "Requirement already satisfied: pexpect; sys_platform != \"win32\" in /usr/local/lib/python3.7/dist-packages (from ipython->ipython-autotime) (4.8.0)\n",
            "Requirement already satisfied: setuptools>=18.5 in /usr/local/lib/python3.7/dist-packages (from ipython->ipython-autotime) (56.0.0)\n",
            "Requirement already satisfied: decorator in /usr/local/lib/python3.7/dist-packages (from ipython->ipython-autotime) (4.4.2)\n",
            "Requirement already satisfied: simplegeneric>0.8 in /usr/local/lib/python3.7/dist-packages (from ipython->ipython-autotime) (0.8.1)\n",
            "Requirement already satisfied: pygments in /usr/local/lib/python3.7/dist-packages (from ipython->ipython-autotime) (2.6.1)\n",
            "Requirement already satisfied: prompt-toolkit<2.0.0,>=1.0.4 in /usr/local/lib/python3.7/dist-packages (from ipython->ipython-autotime) (1.0.18)\n",
            "Requirement already satisfied: pickleshare in /usr/local/lib/python3.7/dist-packages (from ipython->ipython-autotime) (0.7.5)\n",
            "Requirement already satisfied: ipython-genutils in /usr/local/lib/python3.7/dist-packages (from traitlets>=4.2->ipython->ipython-autotime) (0.2.0)\n",
            "Requirement already satisfied: ptyprocess>=0.5 in /usr/local/lib/python3.7/dist-packages (from pexpect; sys_platform != \"win32\"->ipython->ipython-autotime) (0.7.0)\n",
            "Requirement already satisfied: six>=1.9.0 in /usr/local/lib/python3.7/dist-packages (from prompt-toolkit<2.0.0,>=1.0.4->ipython->ipython-autotime) (1.15.0)\n",
            "Requirement already satisfied: wcwidth in /usr/local/lib/python3.7/dist-packages (from prompt-toolkit<2.0.0,>=1.0.4->ipython->ipython-autotime) (0.2.5)\n",
            "Installing collected packages: ipython-autotime\n",
            "Successfully installed ipython-autotime-0.3.1\n",
            "time: 2.8 ms (started: 2021-05-05 14:39:21 +00:00)\n"
          ],
          "name": "stdout"
        }
      ]
    },
    {
      "cell_type": "code",
      "metadata": {
        "colab": {
          "base_uri": "https://localhost:8080/"
        },
        "id": "KNuP2U49FVOu",
        "outputId": "2bc5e78d-d936-4ade-ba72-d29619c64e23"
      },
      "source": [
        "! pip install rank_bm25\n",
        "import nltk \n",
        "import string \n",
        "import re \n",
        "import nltk\n",
        "nltk.download('wordnet')\n",
        "nltk.download('stopwords')\n",
        "# nltk.download('wordnet')"
      ],
      "execution_count": 2,
      "outputs": [
        {
          "output_type": "stream",
          "text": [
            "Collecting rank_bm25\n",
            "  Downloading https://files.pythonhosted.org/packages/16/5a/23ed3132063a0684ea66fb410260c71c4ffda3b99f8f1c021d1e245401b5/rank_bm25-0.2.1-py3-none-any.whl\n",
            "Requirement already satisfied: numpy in /usr/local/lib/python3.7/dist-packages (from rank_bm25) (1.19.5)\n",
            "Installing collected packages: rank-bm25\n",
            "Successfully installed rank-bm25-0.2.1\n",
            "[nltk_data] Downloading package wordnet to /root/nltk_data...\n",
            "[nltk_data]   Unzipping corpora/wordnet.zip.\n",
            "[nltk_data] Downloading package stopwords to /root/nltk_data...\n",
            "[nltk_data]   Unzipping corpora/stopwords.zip.\n"
          ],
          "name": "stdout"
        },
        {
          "output_type": "execute_result",
          "data": {
            "text/plain": [
              "True"
            ]
          },
          "metadata": {
            "tags": []
          },
          "execution_count": 2
        },
        {
          "output_type": "stream",
          "text": [
            "time: 3.72 s (started: 2021-05-05 14:39:33 +00:00)\n"
          ],
          "name": "stdout"
        }
      ]
    },
    {
      "cell_type": "code",
      "metadata": {
        "colab": {
          "base_uri": "https://localhost:8080/"
        },
        "id": "zdgOhgsL_Za7",
        "outputId": "62fbe2d4-cd01-4edc-c369-8b868333ac7d"
      },
      "source": [
        "from google.colab import drive\n",
        "drive.mount('/content/drive')"
      ],
      "execution_count": 3,
      "outputs": [
        {
          "output_type": "stream",
          "text": [
            "Mounted at /content/drive\n",
            "time: 33.2 s (started: 2021-05-05 14:39:51 +00:00)\n"
          ],
          "name": "stdout"
        }
      ]
    },
    {
      "cell_type": "code",
      "metadata": {
        "colab": {
          "base_uri": "https://localhost:8080/"
        },
        "id": "C8AegBmUFh0F",
        "outputId": "13c5fcee-c5e0-4e14-e41b-f7c0238dbdce"
      },
      "source": [
        "from rank_bm25 import BM25Okapi\n",
        "dataset2 = pd.read_csv('/content/drive/MyDrive/IR Project/dataset_with_details_wikivoyage.csv')\n",
        "dataset1 = pd.read_csv('/content/drive/MyDrive/IR Project/final_dataset_wo_duplicates.csv')"
      ],
      "execution_count": 4,
      "outputs": [
        {
          "output_type": "stream",
          "text": [
            "time: 2.4 s (started: 2021-05-05 14:40:29 +00:00)\n"
          ],
          "name": "stdout"
        }
      ]
    },
    {
      "cell_type": "code",
      "metadata": {
        "colab": {
          "base_uri": "https://localhost:8080/"
        },
        "id": "KtU8pNckNbf1",
        "outputId": "e34d6082-9180-4ebd-fde2-30faa57f902e"
      },
      "source": [
        "dataset2.to_csv('wiki_voyage_correct.csv',index=False)"
      ],
      "execution_count": 5,
      "outputs": [
        {
          "output_type": "stream",
          "text": [
            "time: 198 ms (started: 2021-05-05 14:40:36 +00:00)\n"
          ],
          "name": "stdout"
        }
      ]
    },
    {
      "cell_type": "code",
      "metadata": {
        "colab": {
          "base_uri": "https://localhost:8080/"
        },
        "id": "XzgW9z4ENXcL",
        "outputId": "29d8f576-0faf-4c54-c047-9076db943f61"
      },
      "source": [
        "cites = list(dataset1['City'])"
      ],
      "execution_count": 6,
      "outputs": [
        {
          "output_type": "stream",
          "text": [
            "time: 3.26 ms (started: 2021-05-05 14:40:45 +00:00)\n"
          ],
          "name": "stdout"
        }
      ]
    },
    {
      "cell_type": "code",
      "metadata": {
        "colab": {
          "base_uri": "https://localhost:8080/"
        },
        "id": "ByhiLQuxFj9p",
        "outputId": "67d8bb6c-014e-4971-b792-010b40b100a5"
      },
      "source": [
        "document_list=[]\n",
        "lemmatizer = WordNetLemmatizer() \n",
        "i=0\n",
        "cities = dataset2['City']\n",
        "for i in range(dataset2.shape[0]):\n",
        "  k= cities[i]\n",
        "  document = ' description of '+ k + dataset2.iloc[i]['description']+'Places to visit in '+k  +str(dataset2.iloc[i]['sites']) + '\\n how to reach '+ k+str(dataset2.iloc[i]['how to reach']) + '\\n best time to visit'+k+dataset2.iloc[i]['best to time visit'] + dataset2.iloc[i]['wiki voyage']\n",
        "  document = document.lower()\n",
        "  input_str = document\n",
        "  translator = str.maketrans('', '', string.punctuation) \n",
        "  document = document.translate(translator) \n",
        "  # document=lemmatizer.lemmatize(document)\n",
        "  tokens = document.split()\n",
        "  tokens = [lemmatizer.lemmatize(word) for word in tokens if not word in stopwords.words('english')]\n",
        "  text = ' '.join(tokens)\n",
        "  document_list.append(text)\n",
        "  i+=1"
      ],
      "execution_count": 7,
      "outputs": [
        {
          "output_type": "stream",
          "text": [
            "time: 2min 52s (started: 2021-05-05 14:40:48 +00:00)\n"
          ],
          "name": "stdout"
        }
      ]
    },
    {
      "cell_type": "code",
      "metadata": {
        "colab": {
          "base_uri": "https://localhost:8080/"
        },
        "id": "3PQjFxCdbX76",
        "outputId": "d56f90fa-85e2-4a28-8eaa-92dd5c50884e"
      },
      "source": [
        "len(document_list)"
      ],
      "execution_count": 8,
      "outputs": [
        {
          "output_type": "execute_result",
          "data": {
            "text/plain": [
              "286"
            ]
          },
          "metadata": {
            "tags": []
          },
          "execution_count": 8
        },
        {
          "output_type": "stream",
          "text": [
            "time: 8.78 ms (started: 2021-05-05 14:43:45 +00:00)\n"
          ],
          "name": "stdout"
        }
      ]
    },
    {
      "cell_type": "code",
      "metadata": {
        "colab": {
          "base_uri": "https://localhost:8080/"
        },
        "id": "mOeJCtDSGWs5",
        "outputId": "eff4d527-4372-4387-a4e0-f613f06e5f44"
      },
      "source": [
        "vectorizer = TfidfVectorizer()\n",
        "X = vectorizer.fit_transform(document_list)\n"
      ],
      "execution_count": 9,
      "outputs": [
        {
          "output_type": "stream",
          "text": [
            "time: 802 ms (started: 2021-05-05 14:43:49 +00:00)\n"
          ],
          "name": "stdout"
        }
      ]
    },
    {
      "cell_type": "code",
      "metadata": {
        "id": "F9sHfInyHtrY"
      },
      "source": [
        ""
      ],
      "execution_count": null,
      "outputs": []
    },
    {
      "cell_type": "code",
      "metadata": {
        "colab": {
          "base_uri": "https://localhost:8080/"
        },
        "id": "VhaeMFvVIV3A",
        "outputId": "a5dde9c1-ef19-4371-c8f2-e7ad49a3c3b4"
      },
      "source": [
        "vocab = vectorizer.vocabulary_\n",
        "idf_values = vectorizer.idf_"
      ],
      "execution_count": 10,
      "outputs": [
        {
          "output_type": "stream",
          "text": [
            "time: 2.99 ms (started: 2021-05-05 14:43:57 +00:00)\n"
          ],
          "name": "stdout"
        }
      ]
    },
    {
      "cell_type": "code",
      "metadata": {
        "colab": {
          "base_uri": "https://localhost:8080/"
        },
        "id": "zW_RcZ-bIXbz",
        "outputId": "850ebebb-5349-44d0-f651-1a0b785a0239"
      },
      "source": [
        "query=input('Enter the query')\n",
        "query=query.lower()\n",
        "query = query.translate(translator)\n",
        "tokens = query.split()\n",
        "tokens = [lemmatizer.lemmatize(word) for word in tokens if not word in stopwords.words('english')]\n",
        "text = ' '.join(tokens)\n",
        "query_vector = np.zeros((X.shape[1]))\n",
        "for t in tokens:\n",
        "  try:\n",
        "    # print(t)\n",
        "    t_index = vocab[t]\n",
        "    query_vector[t_index]= query_vector[t_index] + idf_values[t_index]\n",
        "    print(t)\n",
        "  except:\n",
        "    pass\n",
        "\n"
      ],
      "execution_count": null,
      "outputs": [
        {
          "output_type": "stream",
          "text": [
            "Enter the queryhill station\n",
            "hill\n",
            "station\n",
            "time: 4.03 s (started: 2021-04-23 07:19:27 +00:00)\n"
          ],
          "name": "stdout"
        }
      ]
    },
    {
      "cell_type": "code",
      "metadata": {
        "colab": {
          "base_uri": "https://localhost:8080/"
        },
        "id": "qV3TVpjpJxqV",
        "outputId": "461440c9-841b-4c31-daef-f086864725a1"
      },
      "source": [
        "scores_array=np.zeros((len(document_list),))\n",
        "dense = X.toarray()\n",
        "print('Using raw count')\n",
        "for i in range(len(document_list)):\n",
        "  # print(i)\n",
        "  doc_vector = dense[i,:]\n",
        "  result = 1 - spatial.distance.cosine(doc_vector, query_vector)\n",
        "  scores_array[i]=result\n",
        "\n",
        "top5=scores_array.argsort()[-10:][::-1]\n",
        "for i in top5:\n",
        "  print(scores_array[i],cities[i])\n",
        "print()"
      ],
      "execution_count": null,
      "outputs": [
        {
          "output_type": "stream",
          "text": [
            "Using raw count\n",
            "0.12040693564241722 Baghmara\n",
            "0.1165131362175672 Roing\n",
            "0.11650732775747863 Jowai\n",
            "0.11286742442928688 Williamnagar\n",
            "0.10970439973610868 Vagamon\n",
            "0.10616732459987366 Nongpoh\n",
            "0.1047765759542767 Ooty\n",
            "0.10171243015763731 Nelliyampathy\n",
            "0.09874142864736613 Shoghi\n",
            "0.09498387529942742 Pauri Garhwal\n",
            "\n",
            "time: 194 ms (started: 2021-04-23 07:19:33 +00:00)\n"
          ],
          "name": "stdout"
        }
      ]
    },
    {
      "cell_type": "code",
      "metadata": {
        "colab": {
          "base_uri": "https://localhost:8080/"
        },
        "id": "-7Wp8IoHMCRI",
        "outputId": "f34ae2e3-390c-4b0e-90ee-df23716fa37c"
      },
      "source": [
        "X.shape[1]"
      ],
      "execution_count": 12,
      "outputs": [
        {
          "output_type": "execute_result",
          "data": {
            "text/plain": [
              "53255"
            ]
          },
          "metadata": {
            "tags": []
          },
          "execution_count": 12
        },
        {
          "output_type": "stream",
          "text": [
            "time: 14.3 ms (started: 2021-05-05 14:44:13 +00:00)\n"
          ],
          "name": "stdout"
        }
      ]
    },
    {
      "cell_type": "code",
      "metadata": {
        "colab": {
          "base_uri": "https://localhost:8080/"
        },
        "id": "IpofZMbuMb3W",
        "outputId": "ade122a9-97b7-4ea7-f7f0-628094bcc4e4"
      },
      "source": [
        "import tensorflow.keras.layers as layers\n",
        "import tensorflow.keras as keras\n",
        "keras.backend.clear_session()\n",
        "encoding_dim = 53255\n"
      ],
      "execution_count": 11,
      "outputs": [
        {
          "output_type": "stream",
          "text": [
            "time: 1.51 s (started: 2021-05-05 14:44:08 +00:00)\n"
          ],
          "name": "stdout"
        }
      ]
    },
    {
      "cell_type": "code",
      "metadata": {
        "colab": {
          "base_uri": "https://localhost:8080/"
        },
        "id": "QpQjSl1jMkVB",
        "outputId": "0b7aad46-6e5d-4f55-facd-cdb9e35aabbd"
      },
      "source": [
        "input_img = keras.Input(shape=(53255,))\n",
        "keras.backend.clear_session()\n",
        "encoded = layers.Dense(8000, activation='relu')(input_img)\n",
        "encoded = layers.Dense(3000, activation='relu')(encoded)\n",
        "\n",
        "encoded = layers.Dense(1000, activation='relu')(encoded)\n",
        "encoded = layers.Dense(100, activation='relu')(encoded)\n",
        "# encoded = layers.Dense(150, activation='relu')(encoded)\n",
        "\n",
        "\n",
        "\n",
        "decoded = layers.Dense(1000, activation='relu')(encoded)\n",
        "decoded = layers.Dense(3000, activation='relu')(decoded)\n",
        "decoded = layers.Dense(8000, activation='relu')(decoded)\n",
        "decoded = layers.Dense(53255, activation='relu')(decoded)\n",
        "\n",
        "encoder = keras.Model(input_img, encoded)\n",
        "# This is our encoded (32-dimensional) input\n",
        "encoded_input = keras.Input(shape=(encoding_dim,))\n",
        "# # Retrieve the last layer of the autoencoder model\n",
        "# decoder_layer = autoencoder.layers[-1]\n",
        "# # Create the decoder model\n",
        "# decoder = keras.Model(encoded_input, decoder_layer(encoded_input))\n",
        "autoencoder = keras.Model(input_img, decoded)\n",
        "autoencoder.compile(optimizer='adam', loss='mse')"
      ],
      "execution_count": null,
      "outputs": [
        {
          "output_type": "stream",
          "text": [
            "time: 3.28 s (started: 2021-04-22 19:15:03 +00:00)\n"
          ],
          "name": "stdout"
        }
      ]
    },
    {
      "cell_type": "code",
      "metadata": {
        "colab": {
          "base_uri": "https://localhost:8080/"
        },
        "id": "1vLiG2wuMlv7",
        "outputId": "e84ab045-91da-4b75-8ba1-08466e1d7068"
      },
      "source": [
        "dense = X.toarray()\n",
        "\n",
        "x_train_1 = np.float32(dense)\n"
      ],
      "execution_count": 13,
      "outputs": [
        {
          "output_type": "stream",
          "text": [
            "time: 99.4 ms (started: 2021-05-05 14:44:34 +00:00)\n"
          ],
          "name": "stdout"
        }
      ]
    },
    {
      "cell_type": "code",
      "metadata": {
        "colab": {
          "base_uri": "https://localhost:8080/",
          "height": 690
        },
        "id": "REibBcsFPmQh",
        "outputId": "0d815123-3cba-42e7-a12e-d6260cd89225"
      },
      "source": [
        "autoencoder.fit(x_train_1, x_train_1,\n",
        "                epochs=50,\n",
        "                batch_size=4,\n",
        "                shuffle=True)"
      ],
      "execution_count": null,
      "outputs": [
        {
          "output_type": "stream",
          "text": [
            "Epoch 1/50\n",
            "72/72 [==============================] - 7s 97ms/step - loss: 8.4796e-06\n",
            "Epoch 2/50\n",
            "72/72 [==============================] - 7s 97ms/step - loss: 8.4809e-06\n",
            "Epoch 3/50\n",
            "72/72 [==============================] - 7s 97ms/step - loss: 8.4794e-06\n",
            "Epoch 4/50\n",
            "72/72 [==============================] - 7s 97ms/step - loss: 8.4686e-06\n",
            "Epoch 5/50\n",
            "72/72 [==============================] - 7s 97ms/step - loss: 8.4644e-06\n",
            "Epoch 6/50\n",
            "72/72 [==============================] - 7s 97ms/step - loss: 8.4615e-06\n",
            "Epoch 7/50\n",
            "72/72 [==============================] - 7s 97ms/step - loss: 8.4694e-06\n",
            "Epoch 8/50\n",
            "72/72 [==============================] - 7s 97ms/step - loss: 8.4733e-06\n",
            "Epoch 9/50\n",
            "72/72 [==============================] - 7s 97ms/step - loss: 8.4719e-06\n",
            "Epoch 10/50\n",
            "53/72 [=====================>........] - ETA: 1s - loss: 8.4369e-06"
          ],
          "name": "stdout"
        },
        {
          "output_type": "error",
          "ename": "KeyboardInterrupt",
          "evalue": "ignored",
          "traceback": [
            "\u001b[0;31m---------------------------------------------------------------------------\u001b[0m",
            "\u001b[0;31mKeyboardInterrupt\u001b[0m                         Traceback (most recent call last)",
            "\u001b[0;32m<ipython-input-27-47a247007728>\u001b[0m in \u001b[0;36m<module>\u001b[0;34m()\u001b[0m\n\u001b[1;32m      2\u001b[0m                 \u001b[0mepochs\u001b[0m\u001b[0;34m=\u001b[0m\u001b[0;36m50\u001b[0m\u001b[0;34m,\u001b[0m\u001b[0;34m\u001b[0m\u001b[0;34m\u001b[0m\u001b[0m\n\u001b[1;32m      3\u001b[0m                 \u001b[0mbatch_size\u001b[0m\u001b[0;34m=\u001b[0m\u001b[0;36m4\u001b[0m\u001b[0;34m,\u001b[0m\u001b[0;34m\u001b[0m\u001b[0;34m\u001b[0m\u001b[0m\n\u001b[0;32m----> 4\u001b[0;31m                 shuffle=True)\n\u001b[0m",
            "\u001b[0;32m/usr/local/lib/python3.7/dist-packages/tensorflow/python/keras/engine/training.py\u001b[0m in \u001b[0;36mfit\u001b[0;34m(self, x, y, batch_size, epochs, verbose, callbacks, validation_split, validation_data, shuffle, class_weight, sample_weight, initial_epoch, steps_per_epoch, validation_steps, validation_batch_size, validation_freq, max_queue_size, workers, use_multiprocessing)\u001b[0m\n\u001b[1;32m   1103\u001b[0m               \u001b[0mlogs\u001b[0m \u001b[0;34m=\u001b[0m \u001b[0mtmp_logs\u001b[0m  \u001b[0;31m# No error, now safe to assign to logs.\u001b[0m\u001b[0;34m\u001b[0m\u001b[0;34m\u001b[0m\u001b[0m\n\u001b[1;32m   1104\u001b[0m               \u001b[0mend_step\u001b[0m \u001b[0;34m=\u001b[0m \u001b[0mstep\u001b[0m \u001b[0;34m+\u001b[0m \u001b[0mdata_handler\u001b[0m\u001b[0;34m.\u001b[0m\u001b[0mstep_increment\u001b[0m\u001b[0;34m\u001b[0m\u001b[0;34m\u001b[0m\u001b[0m\n\u001b[0;32m-> 1105\u001b[0;31m               \u001b[0mcallbacks\u001b[0m\u001b[0;34m.\u001b[0m\u001b[0mon_train_batch_end\u001b[0m\u001b[0;34m(\u001b[0m\u001b[0mend_step\u001b[0m\u001b[0;34m,\u001b[0m \u001b[0mlogs\u001b[0m\u001b[0;34m)\u001b[0m\u001b[0;34m\u001b[0m\u001b[0;34m\u001b[0m\u001b[0m\n\u001b[0m\u001b[1;32m   1106\u001b[0m               \u001b[0;32mif\u001b[0m \u001b[0mself\u001b[0m\u001b[0;34m.\u001b[0m\u001b[0mstop_training\u001b[0m\u001b[0;34m:\u001b[0m\u001b[0;34m\u001b[0m\u001b[0;34m\u001b[0m\u001b[0m\n\u001b[1;32m   1107\u001b[0m                 \u001b[0;32mbreak\u001b[0m\u001b[0;34m\u001b[0m\u001b[0;34m\u001b[0m\u001b[0m\n",
            "\u001b[0;32m/usr/local/lib/python3.7/dist-packages/tensorflow/python/keras/callbacks.py\u001b[0m in \u001b[0;36mon_train_batch_end\u001b[0;34m(self, batch, logs)\u001b[0m\n\u001b[1;32m    452\u001b[0m     \"\"\"\n\u001b[1;32m    453\u001b[0m     \u001b[0;32mif\u001b[0m \u001b[0mself\u001b[0m\u001b[0;34m.\u001b[0m\u001b[0m_should_call_train_batch_hooks\u001b[0m\u001b[0;34m:\u001b[0m\u001b[0;34m\u001b[0m\u001b[0;34m\u001b[0m\u001b[0m\n\u001b[0;32m--> 454\u001b[0;31m       \u001b[0mself\u001b[0m\u001b[0;34m.\u001b[0m\u001b[0m_call_batch_hook\u001b[0m\u001b[0;34m(\u001b[0m\u001b[0mModeKeys\u001b[0m\u001b[0;34m.\u001b[0m\u001b[0mTRAIN\u001b[0m\u001b[0;34m,\u001b[0m \u001b[0;34m'end'\u001b[0m\u001b[0;34m,\u001b[0m \u001b[0mbatch\u001b[0m\u001b[0;34m,\u001b[0m \u001b[0mlogs\u001b[0m\u001b[0;34m=\u001b[0m\u001b[0mlogs\u001b[0m\u001b[0;34m)\u001b[0m\u001b[0;34m\u001b[0m\u001b[0;34m\u001b[0m\u001b[0m\n\u001b[0m\u001b[1;32m    455\u001b[0m \u001b[0;34m\u001b[0m\u001b[0m\n\u001b[1;32m    456\u001b[0m   \u001b[0;32mdef\u001b[0m \u001b[0mon_test_batch_begin\u001b[0m\u001b[0;34m(\u001b[0m\u001b[0mself\u001b[0m\u001b[0;34m,\u001b[0m \u001b[0mbatch\u001b[0m\u001b[0;34m,\u001b[0m \u001b[0mlogs\u001b[0m\u001b[0;34m=\u001b[0m\u001b[0;32mNone\u001b[0m\u001b[0;34m)\u001b[0m\u001b[0;34m:\u001b[0m\u001b[0;34m\u001b[0m\u001b[0;34m\u001b[0m\u001b[0m\n",
            "\u001b[0;32m/usr/local/lib/python3.7/dist-packages/tensorflow/python/keras/callbacks.py\u001b[0m in \u001b[0;36m_call_batch_hook\u001b[0;34m(self, mode, hook, batch, logs)\u001b[0m\n\u001b[1;32m    294\u001b[0m       \u001b[0mself\u001b[0m\u001b[0;34m.\u001b[0m\u001b[0m_call_batch_begin_hook\u001b[0m\u001b[0;34m(\u001b[0m\u001b[0mmode\u001b[0m\u001b[0;34m,\u001b[0m \u001b[0mbatch\u001b[0m\u001b[0;34m,\u001b[0m \u001b[0mlogs\u001b[0m\u001b[0;34m)\u001b[0m\u001b[0;34m\u001b[0m\u001b[0;34m\u001b[0m\u001b[0m\n\u001b[1;32m    295\u001b[0m     \u001b[0;32melif\u001b[0m \u001b[0mhook\u001b[0m \u001b[0;34m==\u001b[0m \u001b[0;34m'end'\u001b[0m\u001b[0;34m:\u001b[0m\u001b[0;34m\u001b[0m\u001b[0;34m\u001b[0m\u001b[0m\n\u001b[0;32m--> 296\u001b[0;31m       \u001b[0mself\u001b[0m\u001b[0;34m.\u001b[0m\u001b[0m_call_batch_end_hook\u001b[0m\u001b[0;34m(\u001b[0m\u001b[0mmode\u001b[0m\u001b[0;34m,\u001b[0m \u001b[0mbatch\u001b[0m\u001b[0;34m,\u001b[0m \u001b[0mlogs\u001b[0m\u001b[0;34m)\u001b[0m\u001b[0;34m\u001b[0m\u001b[0;34m\u001b[0m\u001b[0m\n\u001b[0m\u001b[1;32m    297\u001b[0m     \u001b[0;32melse\u001b[0m\u001b[0;34m:\u001b[0m\u001b[0;34m\u001b[0m\u001b[0;34m\u001b[0m\u001b[0m\n\u001b[1;32m    298\u001b[0m       \u001b[0;32mraise\u001b[0m \u001b[0mValueError\u001b[0m\u001b[0;34m(\u001b[0m\u001b[0;34m'Unrecognized hook: {}'\u001b[0m\u001b[0;34m.\u001b[0m\u001b[0mformat\u001b[0m\u001b[0;34m(\u001b[0m\u001b[0mhook\u001b[0m\u001b[0;34m)\u001b[0m\u001b[0;34m)\u001b[0m\u001b[0;34m\u001b[0m\u001b[0;34m\u001b[0m\u001b[0m\n",
            "\u001b[0;32m/usr/local/lib/python3.7/dist-packages/tensorflow/python/keras/callbacks.py\u001b[0m in \u001b[0;36m_call_batch_end_hook\u001b[0;34m(self, mode, batch, logs)\u001b[0m\n\u001b[1;32m    314\u001b[0m       \u001b[0mself\u001b[0m\u001b[0;34m.\u001b[0m\u001b[0m_batch_times\u001b[0m\u001b[0;34m.\u001b[0m\u001b[0mappend\u001b[0m\u001b[0;34m(\u001b[0m\u001b[0mbatch_time\u001b[0m\u001b[0;34m)\u001b[0m\u001b[0;34m\u001b[0m\u001b[0;34m\u001b[0m\u001b[0m\n\u001b[1;32m    315\u001b[0m \u001b[0;34m\u001b[0m\u001b[0m\n\u001b[0;32m--> 316\u001b[0;31m     \u001b[0mself\u001b[0m\u001b[0;34m.\u001b[0m\u001b[0m_call_batch_hook_helper\u001b[0m\u001b[0;34m(\u001b[0m\u001b[0mhook_name\u001b[0m\u001b[0;34m,\u001b[0m \u001b[0mbatch\u001b[0m\u001b[0;34m,\u001b[0m \u001b[0mlogs\u001b[0m\u001b[0;34m)\u001b[0m\u001b[0;34m\u001b[0m\u001b[0;34m\u001b[0m\u001b[0m\n\u001b[0m\u001b[1;32m    317\u001b[0m \u001b[0;34m\u001b[0m\u001b[0m\n\u001b[1;32m    318\u001b[0m     \u001b[0;32mif\u001b[0m \u001b[0mlen\u001b[0m\u001b[0;34m(\u001b[0m\u001b[0mself\u001b[0m\u001b[0;34m.\u001b[0m\u001b[0m_batch_times\u001b[0m\u001b[0;34m)\u001b[0m \u001b[0;34m>=\u001b[0m \u001b[0mself\u001b[0m\u001b[0;34m.\u001b[0m\u001b[0m_num_batches_for_timing_check\u001b[0m\u001b[0;34m:\u001b[0m\u001b[0;34m\u001b[0m\u001b[0;34m\u001b[0m\u001b[0m\n",
            "\u001b[0;32m/usr/local/lib/python3.7/dist-packages/tensorflow/python/keras/callbacks.py\u001b[0m in \u001b[0;36m_call_batch_hook_helper\u001b[0;34m(self, hook_name, batch, logs)\u001b[0m\n\u001b[1;32m    354\u001b[0m       \u001b[0mhook\u001b[0m \u001b[0;34m=\u001b[0m \u001b[0mgetattr\u001b[0m\u001b[0;34m(\u001b[0m\u001b[0mcallback\u001b[0m\u001b[0;34m,\u001b[0m \u001b[0mhook_name\u001b[0m\u001b[0;34m)\u001b[0m\u001b[0;34m\u001b[0m\u001b[0;34m\u001b[0m\u001b[0m\n\u001b[1;32m    355\u001b[0m       \u001b[0;32mif\u001b[0m \u001b[0mgetattr\u001b[0m\u001b[0;34m(\u001b[0m\u001b[0mcallback\u001b[0m\u001b[0;34m,\u001b[0m \u001b[0;34m'_supports_tf_logs'\u001b[0m\u001b[0;34m,\u001b[0m \u001b[0;32mFalse\u001b[0m\u001b[0;34m)\u001b[0m\u001b[0;34m:\u001b[0m\u001b[0;34m\u001b[0m\u001b[0;34m\u001b[0m\u001b[0m\n\u001b[0;32m--> 356\u001b[0;31m         \u001b[0mhook\u001b[0m\u001b[0;34m(\u001b[0m\u001b[0mbatch\u001b[0m\u001b[0;34m,\u001b[0m \u001b[0mlogs\u001b[0m\u001b[0;34m)\u001b[0m\u001b[0;34m\u001b[0m\u001b[0;34m\u001b[0m\u001b[0m\n\u001b[0m\u001b[1;32m    357\u001b[0m       \u001b[0;32melse\u001b[0m\u001b[0;34m:\u001b[0m\u001b[0;34m\u001b[0m\u001b[0;34m\u001b[0m\u001b[0m\n\u001b[1;32m    358\u001b[0m         \u001b[0;32mif\u001b[0m \u001b[0mnumpy_logs\u001b[0m \u001b[0;32mis\u001b[0m \u001b[0;32mNone\u001b[0m\u001b[0;34m:\u001b[0m  \u001b[0;31m# Only convert once.\u001b[0m\u001b[0;34m\u001b[0m\u001b[0;34m\u001b[0m\u001b[0m\n",
            "\u001b[0;32m/usr/local/lib/python3.7/dist-packages/tensorflow/python/keras/callbacks.py\u001b[0m in \u001b[0;36mon_train_batch_end\u001b[0;34m(self, batch, logs)\u001b[0m\n\u001b[1;32m   1018\u001b[0m \u001b[0;34m\u001b[0m\u001b[0m\n\u001b[1;32m   1019\u001b[0m   \u001b[0;32mdef\u001b[0m \u001b[0mon_train_batch_end\u001b[0m\u001b[0;34m(\u001b[0m\u001b[0mself\u001b[0m\u001b[0;34m,\u001b[0m \u001b[0mbatch\u001b[0m\u001b[0;34m,\u001b[0m \u001b[0mlogs\u001b[0m\u001b[0;34m=\u001b[0m\u001b[0;32mNone\u001b[0m\u001b[0;34m)\u001b[0m\u001b[0;34m:\u001b[0m\u001b[0;34m\u001b[0m\u001b[0;34m\u001b[0m\u001b[0m\n\u001b[0;32m-> 1020\u001b[0;31m     \u001b[0mself\u001b[0m\u001b[0;34m.\u001b[0m\u001b[0m_batch_update_progbar\u001b[0m\u001b[0;34m(\u001b[0m\u001b[0mbatch\u001b[0m\u001b[0;34m,\u001b[0m \u001b[0mlogs\u001b[0m\u001b[0;34m)\u001b[0m\u001b[0;34m\u001b[0m\u001b[0;34m\u001b[0m\u001b[0m\n\u001b[0m\u001b[1;32m   1021\u001b[0m \u001b[0;34m\u001b[0m\u001b[0m\n\u001b[1;32m   1022\u001b[0m   \u001b[0;32mdef\u001b[0m \u001b[0mon_test_batch_end\u001b[0m\u001b[0;34m(\u001b[0m\u001b[0mself\u001b[0m\u001b[0;34m,\u001b[0m \u001b[0mbatch\u001b[0m\u001b[0;34m,\u001b[0m \u001b[0mlogs\u001b[0m\u001b[0;34m=\u001b[0m\u001b[0;32mNone\u001b[0m\u001b[0;34m)\u001b[0m\u001b[0;34m:\u001b[0m\u001b[0;34m\u001b[0m\u001b[0;34m\u001b[0m\u001b[0m\n",
            "\u001b[0;32m/usr/local/lib/python3.7/dist-packages/tensorflow/python/keras/callbacks.py\u001b[0m in \u001b[0;36m_batch_update_progbar\u001b[0;34m(self, batch, logs)\u001b[0m\n\u001b[1;32m   1082\u001b[0m     \u001b[0;32mif\u001b[0m \u001b[0mself\u001b[0m\u001b[0;34m.\u001b[0m\u001b[0mverbose\u001b[0m \u001b[0;34m==\u001b[0m \u001b[0;36m1\u001b[0m\u001b[0;34m:\u001b[0m\u001b[0;34m\u001b[0m\u001b[0;34m\u001b[0m\u001b[0m\n\u001b[1;32m   1083\u001b[0m       \u001b[0;31m# Only block async when verbose = 1.\u001b[0m\u001b[0;34m\u001b[0m\u001b[0;34m\u001b[0m\u001b[0;34m\u001b[0m\u001b[0m\n\u001b[0;32m-> 1084\u001b[0;31m       \u001b[0mlogs\u001b[0m \u001b[0;34m=\u001b[0m \u001b[0mtf_utils\u001b[0m\u001b[0;34m.\u001b[0m\u001b[0mto_numpy_or_python_type\u001b[0m\u001b[0;34m(\u001b[0m\u001b[0mlogs\u001b[0m\u001b[0;34m)\u001b[0m\u001b[0;34m\u001b[0m\u001b[0;34m\u001b[0m\u001b[0m\n\u001b[0m\u001b[1;32m   1085\u001b[0m       \u001b[0mself\u001b[0m\u001b[0;34m.\u001b[0m\u001b[0mprogbar\u001b[0m\u001b[0;34m.\u001b[0m\u001b[0mupdate\u001b[0m\u001b[0;34m(\u001b[0m\u001b[0mself\u001b[0m\u001b[0;34m.\u001b[0m\u001b[0mseen\u001b[0m\u001b[0;34m,\u001b[0m \u001b[0mlist\u001b[0m\u001b[0;34m(\u001b[0m\u001b[0mlogs\u001b[0m\u001b[0;34m.\u001b[0m\u001b[0mitems\u001b[0m\u001b[0;34m(\u001b[0m\u001b[0;34m)\u001b[0m\u001b[0;34m)\u001b[0m\u001b[0;34m,\u001b[0m \u001b[0mfinalize\u001b[0m\u001b[0;34m=\u001b[0m\u001b[0;32mFalse\u001b[0m\u001b[0;34m)\u001b[0m\u001b[0;34m\u001b[0m\u001b[0;34m\u001b[0m\u001b[0m\n\u001b[1;32m   1086\u001b[0m \u001b[0;34m\u001b[0m\u001b[0m\n",
            "\u001b[0;32m/usr/local/lib/python3.7/dist-packages/tensorflow/python/keras/utils/tf_utils.py\u001b[0m in \u001b[0;36mto_numpy_or_python_type\u001b[0;34m(tensors)\u001b[0m\n\u001b[1;32m    512\u001b[0m     \u001b[0;32mreturn\u001b[0m \u001b[0mt\u001b[0m  \u001b[0;31m# Don't turn ragged or sparse tensors to NumPy.\u001b[0m\u001b[0;34m\u001b[0m\u001b[0;34m\u001b[0m\u001b[0m\n\u001b[1;32m    513\u001b[0m \u001b[0;34m\u001b[0m\u001b[0m\n\u001b[0;32m--> 514\u001b[0;31m   \u001b[0;32mreturn\u001b[0m \u001b[0mnest\u001b[0m\u001b[0;34m.\u001b[0m\u001b[0mmap_structure\u001b[0m\u001b[0;34m(\u001b[0m\u001b[0m_to_single_numpy_or_python_type\u001b[0m\u001b[0;34m,\u001b[0m \u001b[0mtensors\u001b[0m\u001b[0;34m)\u001b[0m\u001b[0;34m\u001b[0m\u001b[0;34m\u001b[0m\u001b[0m\n\u001b[0m\u001b[1;32m    515\u001b[0m \u001b[0;34m\u001b[0m\u001b[0m\n\u001b[1;32m    516\u001b[0m \u001b[0;34m\u001b[0m\u001b[0m\n",
            "\u001b[0;32m/usr/local/lib/python3.7/dist-packages/tensorflow/python/util/nest.py\u001b[0m in \u001b[0;36mmap_structure\u001b[0;34m(func, *structure, **kwargs)\u001b[0m\n\u001b[1;32m    657\u001b[0m \u001b[0;34m\u001b[0m\u001b[0m\n\u001b[1;32m    658\u001b[0m   return pack_sequence_as(\n\u001b[0;32m--> 659\u001b[0;31m       \u001b[0mstructure\u001b[0m\u001b[0;34m[\u001b[0m\u001b[0;36m0\u001b[0m\u001b[0;34m]\u001b[0m\u001b[0;34m,\u001b[0m \u001b[0;34m[\u001b[0m\u001b[0mfunc\u001b[0m\u001b[0;34m(\u001b[0m\u001b[0;34m*\u001b[0m\u001b[0mx\u001b[0m\u001b[0;34m)\u001b[0m \u001b[0;32mfor\u001b[0m \u001b[0mx\u001b[0m \u001b[0;32min\u001b[0m \u001b[0mentries\u001b[0m\u001b[0;34m]\u001b[0m\u001b[0;34m,\u001b[0m\u001b[0;34m\u001b[0m\u001b[0;34m\u001b[0m\u001b[0m\n\u001b[0m\u001b[1;32m    660\u001b[0m       expand_composites=expand_composites)\n\u001b[1;32m    661\u001b[0m \u001b[0;34m\u001b[0m\u001b[0m\n",
            "\u001b[0;32m/usr/local/lib/python3.7/dist-packages/tensorflow/python/util/nest.py\u001b[0m in \u001b[0;36m<listcomp>\u001b[0;34m(.0)\u001b[0m\n\u001b[1;32m    657\u001b[0m \u001b[0;34m\u001b[0m\u001b[0m\n\u001b[1;32m    658\u001b[0m   return pack_sequence_as(\n\u001b[0;32m--> 659\u001b[0;31m       \u001b[0mstructure\u001b[0m\u001b[0;34m[\u001b[0m\u001b[0;36m0\u001b[0m\u001b[0;34m]\u001b[0m\u001b[0;34m,\u001b[0m \u001b[0;34m[\u001b[0m\u001b[0mfunc\u001b[0m\u001b[0;34m(\u001b[0m\u001b[0;34m*\u001b[0m\u001b[0mx\u001b[0m\u001b[0;34m)\u001b[0m \u001b[0;32mfor\u001b[0m \u001b[0mx\u001b[0m \u001b[0;32min\u001b[0m \u001b[0mentries\u001b[0m\u001b[0;34m]\u001b[0m\u001b[0;34m,\u001b[0m\u001b[0;34m\u001b[0m\u001b[0;34m\u001b[0m\u001b[0m\n\u001b[0m\u001b[1;32m    660\u001b[0m       expand_composites=expand_composites)\n\u001b[1;32m    661\u001b[0m \u001b[0;34m\u001b[0m\u001b[0m\n",
            "\u001b[0;32m/usr/local/lib/python3.7/dist-packages/tensorflow/python/keras/utils/tf_utils.py\u001b[0m in \u001b[0;36m_to_single_numpy_or_python_type\u001b[0;34m(t)\u001b[0m\n\u001b[1;32m    508\u001b[0m   \u001b[0;32mdef\u001b[0m \u001b[0m_to_single_numpy_or_python_type\u001b[0m\u001b[0;34m(\u001b[0m\u001b[0mt\u001b[0m\u001b[0;34m)\u001b[0m\u001b[0;34m:\u001b[0m\u001b[0;34m\u001b[0m\u001b[0;34m\u001b[0m\u001b[0m\n\u001b[1;32m    509\u001b[0m     \u001b[0;32mif\u001b[0m \u001b[0misinstance\u001b[0m\u001b[0;34m(\u001b[0m\u001b[0mt\u001b[0m\u001b[0;34m,\u001b[0m \u001b[0mops\u001b[0m\u001b[0;34m.\u001b[0m\u001b[0mTensor\u001b[0m\u001b[0;34m)\u001b[0m\u001b[0;34m:\u001b[0m\u001b[0;34m\u001b[0m\u001b[0;34m\u001b[0m\u001b[0m\n\u001b[0;32m--> 510\u001b[0;31m       \u001b[0mx\u001b[0m \u001b[0;34m=\u001b[0m \u001b[0mt\u001b[0m\u001b[0;34m.\u001b[0m\u001b[0mnumpy\u001b[0m\u001b[0;34m(\u001b[0m\u001b[0;34m)\u001b[0m\u001b[0;34m\u001b[0m\u001b[0;34m\u001b[0m\u001b[0m\n\u001b[0m\u001b[1;32m    511\u001b[0m       \u001b[0;32mreturn\u001b[0m \u001b[0mx\u001b[0m\u001b[0;34m.\u001b[0m\u001b[0mitem\u001b[0m\u001b[0;34m(\u001b[0m\u001b[0;34m)\u001b[0m \u001b[0;32mif\u001b[0m \u001b[0mnp\u001b[0m\u001b[0;34m.\u001b[0m\u001b[0mndim\u001b[0m\u001b[0;34m(\u001b[0m\u001b[0mx\u001b[0m\u001b[0;34m)\u001b[0m \u001b[0;34m==\u001b[0m \u001b[0;36m0\u001b[0m \u001b[0;32melse\u001b[0m \u001b[0mx\u001b[0m\u001b[0;34m\u001b[0m\u001b[0;34m\u001b[0m\u001b[0m\n\u001b[1;32m    512\u001b[0m     \u001b[0;32mreturn\u001b[0m \u001b[0mt\u001b[0m  \u001b[0;31m# Don't turn ragged or sparse tensors to NumPy.\u001b[0m\u001b[0;34m\u001b[0m\u001b[0;34m\u001b[0m\u001b[0m\n",
            "\u001b[0;32m/usr/local/lib/python3.7/dist-packages/tensorflow/python/framework/ops.py\u001b[0m in \u001b[0;36mnumpy\u001b[0;34m(self)\u001b[0m\n\u001b[1;32m   1069\u001b[0m     \"\"\"\n\u001b[1;32m   1070\u001b[0m     \u001b[0;31m# TODO(slebedev): Consider avoiding a copy for non-CPU or remote tensors.\u001b[0m\u001b[0;34m\u001b[0m\u001b[0;34m\u001b[0m\u001b[0;34m\u001b[0m\u001b[0m\n\u001b[0;32m-> 1071\u001b[0;31m     \u001b[0mmaybe_arr\u001b[0m \u001b[0;34m=\u001b[0m \u001b[0mself\u001b[0m\u001b[0;34m.\u001b[0m\u001b[0m_numpy\u001b[0m\u001b[0;34m(\u001b[0m\u001b[0;34m)\u001b[0m  \u001b[0;31m# pylint: disable=protected-access\u001b[0m\u001b[0;34m\u001b[0m\u001b[0;34m\u001b[0m\u001b[0m\n\u001b[0m\u001b[1;32m   1072\u001b[0m     \u001b[0;32mreturn\u001b[0m \u001b[0mmaybe_arr\u001b[0m\u001b[0;34m.\u001b[0m\u001b[0mcopy\u001b[0m\u001b[0;34m(\u001b[0m\u001b[0;34m)\u001b[0m \u001b[0;32mif\u001b[0m \u001b[0misinstance\u001b[0m\u001b[0;34m(\u001b[0m\u001b[0mmaybe_arr\u001b[0m\u001b[0;34m,\u001b[0m \u001b[0mnp\u001b[0m\u001b[0;34m.\u001b[0m\u001b[0mndarray\u001b[0m\u001b[0;34m)\u001b[0m \u001b[0;32melse\u001b[0m \u001b[0mmaybe_arr\u001b[0m\u001b[0;34m\u001b[0m\u001b[0;34m\u001b[0m\u001b[0m\n\u001b[1;32m   1073\u001b[0m \u001b[0;34m\u001b[0m\u001b[0m\n",
            "\u001b[0;32m/usr/local/lib/python3.7/dist-packages/tensorflow/python/framework/ops.py\u001b[0m in \u001b[0;36m_numpy\u001b[0;34m(self)\u001b[0m\n\u001b[1;32m   1035\u001b[0m   \u001b[0;32mdef\u001b[0m \u001b[0m_numpy\u001b[0m\u001b[0;34m(\u001b[0m\u001b[0mself\u001b[0m\u001b[0;34m)\u001b[0m\u001b[0;34m:\u001b[0m\u001b[0;34m\u001b[0m\u001b[0;34m\u001b[0m\u001b[0m\n\u001b[1;32m   1036\u001b[0m     \u001b[0;32mtry\u001b[0m\u001b[0;34m:\u001b[0m\u001b[0;34m\u001b[0m\u001b[0;34m\u001b[0m\u001b[0m\n\u001b[0;32m-> 1037\u001b[0;31m       \u001b[0;32mreturn\u001b[0m \u001b[0mself\u001b[0m\u001b[0;34m.\u001b[0m\u001b[0m_numpy_internal\u001b[0m\u001b[0;34m(\u001b[0m\u001b[0;34m)\u001b[0m\u001b[0;34m\u001b[0m\u001b[0;34m\u001b[0m\u001b[0m\n\u001b[0m\u001b[1;32m   1038\u001b[0m     \u001b[0;32mexcept\u001b[0m \u001b[0mcore\u001b[0m\u001b[0;34m.\u001b[0m\u001b[0m_NotOkStatusException\u001b[0m \u001b[0;32mas\u001b[0m \u001b[0me\u001b[0m\u001b[0;34m:\u001b[0m  \u001b[0;31m# pylint: disable=protected-access\u001b[0m\u001b[0;34m\u001b[0m\u001b[0;34m\u001b[0m\u001b[0m\n\u001b[1;32m   1039\u001b[0m       \u001b[0msix\u001b[0m\u001b[0;34m.\u001b[0m\u001b[0mraise_from\u001b[0m\u001b[0;34m(\u001b[0m\u001b[0mcore\u001b[0m\u001b[0;34m.\u001b[0m\u001b[0m_status_to_exception\u001b[0m\u001b[0;34m(\u001b[0m\u001b[0me\u001b[0m\u001b[0;34m.\u001b[0m\u001b[0mcode\u001b[0m\u001b[0;34m,\u001b[0m \u001b[0me\u001b[0m\u001b[0;34m.\u001b[0m\u001b[0mmessage\u001b[0m\u001b[0;34m)\u001b[0m\u001b[0;34m,\u001b[0m \u001b[0;32mNone\u001b[0m\u001b[0;34m)\u001b[0m  \u001b[0;31m# pylint: disable=protected-access\u001b[0m\u001b[0;34m\u001b[0m\u001b[0;34m\u001b[0m\u001b[0m\n",
            "\u001b[0;31mKeyboardInterrupt\u001b[0m: "
          ]
        },
        {
          "output_type": "stream",
          "text": [
            "time: 1min 8s (started: 2021-04-22 19:29:59 +00:00)\n"
          ],
          "name": "stdout"
        }
      ]
    },
    {
      "cell_type": "code",
      "metadata": {
        "colab": {
          "base_uri": "https://localhost:8080/"
        },
        "id": "emEj3VqiEJh6",
        "outputId": "3a946696-09ec-4029-f704-25b9e4194f0f"
      },
      "source": [
        "autoencoder.save(\"/content/drive/MyDrive/ir_project/model1\")"
      ],
      "execution_count": null,
      "outputs": [
        {
          "output_type": "stream",
          "text": [
            "INFO:tensorflow:Assets written to: /content/drive/MyDrive/ir_project/model1/assets\n",
            "time: 2min 8s (started: 2021-04-22 19:32:51 +00:00)\n"
          ],
          "name": "stdout"
        }
      ]
    },
    {
      "cell_type": "code",
      "metadata": {
        "colab": {
          "base_uri": "https://localhost:8080/"
        },
        "id": "7L-r0gy9E1yu",
        "outputId": "b96d912e-a8df-48c8-f82f-59dd6742bb41"
      },
      "source": [
        "encoder.save(\"/content/drive/MyDrive/ir_project/model2\")"
      ],
      "execution_count": null,
      "outputs": [
        {
          "output_type": "stream",
          "text": [
            "INFO:tensorflow:Assets written to: /content/drive/MyDrive/ir_project/model2/assets\n",
            "time: 13.8 s (started: 2021-04-22 19:35:35 +00:00)\n"
          ],
          "name": "stdout"
        }
      ]
    },
    {
      "cell_type": "code",
      "metadata": {
        "colab": {
          "base_uri": "https://localhost:8080/"
        },
        "id": "jzHXcLx8H_L2",
        "outputId": "b707dd15-ea5d-43a9-b663-88ef01a33f77"
      },
      "source": [
        "encoder = keras.models.load_model('/content/drive/MyDrive/ir_project/model2')"
      ],
      "execution_count": 14,
      "outputs": [
        {
          "output_type": "stream",
          "text": [
            "WARNING:tensorflow:No training configuration found in save file, so the model was *not* compiled. Compile it manually.\n",
            "time: 53.2 s (started: 2021-05-05 14:44:50 +00:00)\n"
          ],
          "name": "stdout"
        }
      ]
    },
    {
      "cell_type": "code",
      "metadata": {
        "colab": {
          "base_uri": "https://localhost:8080/"
        },
        "id": "NUTEC16QPrWE",
        "outputId": "52fef232-c4ac-4da5-f54d-0e4bb4f64eaa"
      },
      "source": [
        "X_encoded = encoder.predict(x_train_1)"
      ],
      "execution_count": 15,
      "outputs": [
        {
          "output_type": "stream",
          "text": [
            "time: 3.27 s (started: 2021-05-05 14:45:52 +00:00)\n"
          ],
          "name": "stdout"
        }
      ]
    },
    {
      "cell_type": "code",
      "metadata": {
        "colab": {
          "base_uri": "https://localhost:8080/"
        },
        "id": "sspMiYAvbuGD",
        "outputId": "d8ee5eac-0c24-4d28-8b4d-8f3f3c5d3e3e"
      },
      "source": [
        "query=input('Enter the query')\n",
        "query=query.lower()\n",
        "query = query.translate(translator)\n",
        "tokens = query.split()\n",
        "tokens = [lemmatizer.lemmatize(word) for word in tokens if not word in stopwords.words('english')]\n",
        "text = ' '.join(tokens)\n",
        "query_vector = np.zeros((X.shape[1]))\n",
        "for t in tokens:\n",
        "  try:\n",
        "    # print(t)\n",
        "    t_index = vocab[t]\n",
        "    query_vector[t_index]= query_vector[t_index] + idf_values[t_index]\n",
        "    print(t)\n",
        "  except:\n",
        "    pass"
      ],
      "execution_count": 16,
      "outputs": [
        {
          "output_type": "stream",
          "text": [
            "Enter the queryharidwar\n",
            "haridwar\n",
            "time: 5.55 s (started: 2021-05-05 14:46:50 +00:00)\n"
          ],
          "name": "stdout"
        }
      ]
    },
    {
      "cell_type": "code",
      "metadata": {
        "colab": {
          "base_uri": "https://localhost:8080/"
        },
        "id": "KWx9zc8cbycK",
        "outputId": "531912c1-25a8-48db-cca4-b2278db3ecac"
      },
      "source": [
        "scores_array=np.zeros((len(document_list),))\n",
        "dense = X.toarray()\n",
        "print('Using raw count')\n",
        "for i in range(len(document_list)):\n",
        "  # print(i)\n",
        "  doc_vector = dense[i,:]\n",
        "  result = 1 - spatial.distance.cosine(doc_vector, query_vector)\n",
        "  scores_array[i]=result\n",
        "top5=scores_array.argsort()[-20:][::-1]\n",
        "for i in top5:\n",
        "  print(scores_array[i],cities[i])\n",
        "print()"
      ],
      "execution_count": 17,
      "outputs": [
        {
          "output_type": "stream",
          "text": [
            "Using raw count\n",
            "0.7534599524304002 Haridwar\n",
            "0.14669350924211533 Kanchula Korak Musk Deer Sanctuary\n",
            "0.1368456734890755 Champawat\n",
            "0.13189075837568753 Tungnath\n",
            "0.12660035025763816 Chopta\n",
            "0.10650256609965736 Joshimath\n",
            "0.09646786806000474 Rishikesh\n",
            "0.0652633687530837 Auli\n",
            "0.04625786840926449 Manikaran\n",
            "0.0413104997749717 Gangotri\n",
            "0.03688290626983526 Dehradun\n",
            "0.03294661163022794 Kedarnath\n",
            "0.027404699706125135 New Tehri\n",
            "0.025984758352328607 Kasol\n",
            "0.024890264391781436 Chamoli\n",
            "0.02401736895867257 Yamunotri\n",
            "0.0157610832395092 Mukteshwar\n",
            "0.011532716038968105 Almora\n",
            "0.010981293118946134 Badrinath\n",
            "0.009916252812515625 Kanatal\n",
            "\n",
            "time: 209 ms (started: 2021-05-05 14:47:00 +00:00)\n"
          ],
          "name": "stdout"
        }
      ]
    },
    {
      "cell_type": "code",
      "metadata": {
        "colab": {
          "base_uri": "https://localhost:8080/"
        },
        "id": "vSzJvRi_SC-Y",
        "outputId": "1ece6d45-b1d9-4e4d-81ce-050609d47463"
      },
      "source": [
        "query_vec = query_vector.reshape(1,X.shape[1])\n",
        "query_encoded = encoder.predict(query_vec)\n",
        "query_encoded = query_encoded.reshape(100,)"
      ],
      "execution_count": 18,
      "outputs": [
        {
          "output_type": "stream",
          "text": [
            "time: 80.6 ms (started: 2021-05-05 14:47:14 +00:00)\n"
          ],
          "name": "stdout"
        }
      ]
    },
    {
      "cell_type": "code",
      "metadata": {
        "colab": {
          "base_uri": "https://localhost:8080/"
        },
        "id": "jg3tzoOHSIS4",
        "outputId": "57e7509c-e9b6-4a6e-b251-24d12b3d2cde"
      },
      "source": [
        "scores_array=np.zeros((len(document_list),))\n",
        "dense = X.toarray()\n",
        "print('Using raw count')\n",
        "for i in range(len(document_list)):\n",
        "  # print(i)\n",
        "  doc_vector = X_encoded[i,:]\n",
        "  result = 1 - spatial.distance.cosine(doc_vector, query_encoded)\n",
        "  scores_array[i]=result\n",
        "top5=scores_array.argsort()[-20:][::-1]\n",
        "for i in top5:\n",
        "  print(scores_array[i],cities[i])\n",
        "print()"
      ],
      "execution_count": 19,
      "outputs": [
        {
          "output_type": "stream",
          "text": [
            "Using raw count\n",
            "0.9810256361961365 Haridwar\n",
            "0.8732166886329651 Joshimath\n",
            "0.8686885833740234 Champawat\n",
            "0.8640422224998474 Rishikesh\n",
            "0.8480963110923767 Dehradun\n",
            "0.8434915542602539 Manikaran\n",
            "0.8420507907867432 Pithoragarh\n",
            "0.8418795466423035 Gangotri\n",
            "0.8378611207008362 Ujjain\n",
            "0.832930862903595 Kanchula Korak Musk Deer Sanctuary\n",
            "0.8316746354103088 Kedarnath\n",
            "0.8271212577819824 Tungnath\n",
            "0.8126929402351379 Chopta\n",
            "0.8064330816268921 Varanasi\n",
            "0.8035234212875366 Kausani\n",
            "0.8014894127845764 Ahmedabad\n",
            "0.8010725378990173 Dwarka\n",
            "0.7989937663078308 Raipur\n",
            "0.7987330555915833 Mandi\n",
            "0.7975603342056274 Badrinath\n",
            "\n",
            "time: 81.7 ms (started: 2021-05-05 14:47:19 +00:00)\n"
          ],
          "name": "stdout"
        }
      ]
    },
    {
      "cell_type": "code",
      "metadata": {
        "colab": {
          "base_uri": "https://localhost:8080/"
        },
        "id": "dvlbMumISXZS",
        "outputId": "9d03a315-66d0-419c-929e-b349aa50dfc8"
      },
      "source": [
        "query=input('Enter the city 1')\n",
        "query=query.lower()\n",
        "query = query.translate(translator)\n",
        "tokens = query.split()\n",
        "tokens = [lemmatizer.lemmatize(word) for word in tokens if not word in stopwords.words('english')]\n",
        "text = ' '.join(tokens)\n",
        "query_vector_1 = np.zeros((X.shape[1]))\n",
        "for t in tokens:\n",
        "  try:\n",
        "    # print(t)\n",
        "    t_index = vocab[t]\n",
        "    query_vector_1[t_index]= query_vector[t_index] + idf_values[t_index]\n",
        "    print(t)\n",
        "  except:\n",
        "    pass\n",
        "\n",
        "\n",
        "query=input('Enter the city 1')\n",
        "query=query.lower()\n",
        "query = query.translate(translator)\n",
        "tokens = query.split()\n",
        "tokens = [lemmatizer.lemmatize(word) for word in tokens if not word in stopwords.words('english')]\n",
        "text = ' '.join(tokens)\n",
        "query_vector_2 = np.zeros((X.shape[1]))\n",
        "for t in tokens:\n",
        "  try:\n",
        "    # print(t)\n",
        "    t_index = vocab[t]\n",
        "    query_vector_2[t_index]= query_vector[t_index] + idf_values[t_index]\n",
        "    print(t)\n",
        "  except:\n",
        "    pass\n",
        "\n",
        "query=input('Enter the city 1')\n",
        "query=query.lower()\n",
        "query = query.translate(translator)\n",
        "tokens = query.split()\n",
        "tokens = [lemmatizer.lemmatize(word) for word in tokens if not word in stopwords.words('english')]\n",
        "text = ' '.join(tokens)\n",
        "query_vector_3 = np.zeros((X.shape[1]))\n",
        "for t in tokens:\n",
        "  try:\n",
        "    # print(t)\n",
        "    t_index = vocab[t]\n",
        "    query_vector_3[t_index]= query_vector[t_index] + idf_values[t_index]\n",
        "    print(t)\n",
        "  except:\n",
        "    pass"
      ],
      "execution_count": null,
      "outputs": [
        {
          "output_type": "stream",
          "text": [
            "Enter the city 1hills\n",
            "hill\n",
            "Enter the city 1snow\n",
            "snow\n",
            "Enter the city 1beaches\n",
            "beach\n",
            "time: 12 s (started: 2021-04-23 07:25:45 +00:00)\n"
          ],
          "name": "stdout"
        }
      ]
    },
    {
      "cell_type": "code",
      "metadata": {
        "colab": {
          "base_uri": "https://localhost:8080/"
        },
        "id": "Dr9TgcM8mInM",
        "outputId": "9e122e47-0a4c-45de-8a6a-eeb2c811edaa"
      },
      "source": [
        ""
      ],
      "execution_count": null,
      "outputs": [
        {
          "output_type": "execute_result",
          "data": {
            "text/plain": [
              "array([0., 0., 0., ..., 0., 0., 0.])"
            ]
          },
          "metadata": {
            "tags": []
          },
          "execution_count": 31
        },
        {
          "output_type": "stream",
          "text": [
            "time: 7.5 ms (started: 2021-04-23 07:19:01 +00:00)\n"
          ],
          "name": "stdout"
        }
      ]
    },
    {
      "cell_type": "code",
      "metadata": {
        "id": "KQQsynN_TrKj",
        "colab": {
          "base_uri": "https://localhost:8080/"
        },
        "outputId": "f0ba38f8-0e13-4509-e7fd-72c7e4236062"
      },
      "source": [
        "result = 1 - spatial.distance.cosine(query_vector_1, query_vector_2)\n",
        "print(result)"
      ],
      "execution_count": null,
      "outputs": [
        {
          "output_type": "stream",
          "text": [
            "0.0\n",
            "time: 4.25 ms (started: 2021-04-23 07:26:02 +00:00)\n"
          ],
          "name": "stdout"
        }
      ]
    },
    {
      "cell_type": "code",
      "metadata": {
        "colab": {
          "base_uri": "https://localhost:8080/"
        },
        "id": "Mn2j7LukJ6Rp",
        "outputId": "7c490b3d-6537-4b3a-ef25-fb91b1475c24"
      },
      "source": [
        "query_vector_1 = query_vector_1.reshape(1,X.shape[1])\n",
        "query_encoded_1 = encoder.predict(query_vector_1)\n",
        "query_encoded_1 = query_encoded_1.reshape(100,)\n",
        "\n",
        "query_vector_2 = query_vector_2.reshape(1,X.shape[1])\n",
        "query_encoded_2 = encoder.predict(query_vector_2)\n",
        "query_encoded_2 = query_encoded_2.reshape(100,)\n",
        "\n",
        "query_vector_3 = query_vector_3.reshape(1,X.shape[1])\n",
        "query_encoded_3 = encoder.predict(query_vector_3)\n",
        "query_encoded_3 = query_encoded_3.reshape(100,)\n",
        "\n",
        "result = 1 - spatial.distance.cosine(query_encoded_1, query_encoded_2)\n",
        "print('Similarity between city 1 and city 2',result)\n",
        "\n",
        "result = 1 - spatial.distance.cosine(query_encoded_1, query_encoded_3)\n",
        "print('Similarity between city 1 and city 3',result)\n",
        "\n",
        "result = 1 - spatial.distance.cosine(query_encoded_2, query_encoded_3)\n",
        "print('Similarity between city 2 and city 3',result)"
      ],
      "execution_count": null,
      "outputs": [
        {
          "output_type": "stream",
          "text": [
            "Similarity between city 1 and city 2 0.9090009331703186\n",
            "Similarity between city 1 and city 3 0.593808650970459\n",
            "Similarity between city 2 and city 3 0.6269001960754395\n",
            "time: 220 ms (started: 2021-04-23 07:26:05 +00:00)\n"
          ],
          "name": "stdout"
        }
      ]
    },
    {
      "cell_type": "code",
      "metadata": {
        "colab": {
          "base_uri": "https://localhost:8080/"
        },
        "id": "KctE9o_eKJfl",
        "outputId": "9e3c4211-4c45-4f28-f04f-574ea05f61ee"
      },
      "source": [
        "# queries=['hills','snow','mountains','beach','sea','wildlife','lion','tiger','malls','market','temple','ganga','pilgrimage','fort','history']\n",
        "\n",
        "queries=['haridwar','rishikesh','kedarnath','chandigarh','delhi','agra','mumbai','kullu','manali','coorg','munnar','coonoor','ooty','alleppey','alibaug']"
      ],
      "execution_count": 20,
      "outputs": [
        {
          "output_type": "stream",
          "text": [
            "time: 2.76 ms (started: 2021-05-05 14:48:11 +00:00)\n"
          ],
          "name": "stdout"
        }
      ]
    },
    {
      "cell_type": "code",
      "metadata": {
        "colab": {
          "base_uri": "https://localhost:8080/"
        },
        "id": "J-9uUJ90KLcH",
        "outputId": "8422c594-2b31-45e7-d7e8-ddb24e4c867e"
      },
      "source": [
        "similarity_scores = np.zeros((len(queries),len(queries)))\n",
        "for i in range(len(queries)):\n",
        "  for j in range(len(queries)):\n",
        "    query=queries[i]\n",
        "    query = query.translate(translator)\n",
        "    tokens = query.split()\n",
        "    tokens = [lemmatizer.lemmatize(word) for word in tokens if not word in stopwords.words('english')]\n",
        "    text = ' '.join(tokens)\n",
        "    query_vector_1 = np.zeros((X.shape[1]))\n",
        "    for t in tokens:\n",
        "      try:\n",
        "        # print(t)\n",
        "        t_index = vocab[t]\n",
        "        query_vector_1[t_index]= query_vector[t_index] + idf_values[t_index]\n",
        "        print(t)\n",
        "      except:\n",
        "        pass\n",
        "\n",
        "\n",
        "    query=queries[j]\n",
        "    query=query.lower()\n",
        "    query = query.translate(translator)\n",
        "    tokens = query.split()\n",
        "    tokens = [lemmatizer.lemmatize(word) for word in tokens if not word in stopwords.words('english')]\n",
        "    text = ' '.join(tokens)\n",
        "    query_vector_2 = np.zeros((X.shape[1]))\n",
        "    for t in tokens:\n",
        "      try:\n",
        "        # print(t)\n",
        "        t_index = vocab[t]\n",
        "        query_vector_2[t_index]= query_vector[t_index] + idf_values[t_index]\n",
        "        print(t)\n",
        "      except:\n",
        "        pass\n",
        "\n",
        "    query_vector_1 = query_vector_1.reshape(1,X.shape[1])\n",
        "    query_encoded_1 = encoder.predict(query_vector_1)\n",
        "    query_encoded_1 = query_encoded_1.reshape(100,)\n",
        "\n",
        "    query_vector_2 = query_vector_2.reshape(1,X.shape[1])\n",
        "    query_encoded_2 = encoder.predict(query_vector_2)\n",
        "    query_encoded_2 = query_encoded_2.reshape(100,) \n",
        "\n",
        "    result = 1 - spatial.distance.cosine(query_encoded_1, query_encoded_2)\n",
        "    print('Similarity between',queries[i],' ',queries[j],' : ',result)\n",
        "    similarity_scores[i,j]=result\n"
      ],
      "execution_count": 21,
      "outputs": [
        {
          "output_type": "stream",
          "text": [
            "haridwar\n",
            "haridwar\n",
            "Similarity between haridwar   haridwar  :  1.0\n",
            "haridwar\n",
            "rishikesh\n",
            "Similarity between haridwar   rishikesh  :  0.7703390717506409\n",
            "haridwar\n",
            "kedarnath\n",
            "Similarity between haridwar   kedarnath  :  0.7087153792381287\n",
            "haridwar\n",
            "chandigarh\n",
            "Similarity between haridwar   chandigarh  :  0.6845911741256714\n",
            "haridwar\n",
            "delhi\n",
            "Similarity between haridwar   delhi  :  0.7516640424728394\n",
            "haridwar\n",
            "agra\n",
            "Similarity between haridwar   agra  :  0.49946948885917664\n",
            "haridwar\n",
            "mumbai\n",
            "Similarity between haridwar   mumbai  :  0.6074720025062561\n",
            "haridwar\n",
            "kullu\n",
            "Similarity between haridwar   kullu  :  0.7648805975914001\n",
            "haridwar\n",
            "manali\n",
            "Similarity between haridwar   manali  :  0.721454381942749\n",
            "haridwar\n",
            "coorg\n",
            "Similarity between haridwar   coorg  :  0.7315784096717834\n",
            "haridwar\n",
            "munnar\n",
            "Similarity between haridwar   munnar  :  0.45219722390174866\n",
            "haridwar\n",
            "coonoor\n",
            "Similarity between haridwar   coonoor  :  0.6701664924621582\n",
            "haridwar\n",
            "ooty\n",
            "Similarity between haridwar   ooty  :  0.5336219668388367\n",
            "haridwar\n",
            "alleppey\n",
            "Similarity between haridwar   alleppey  :  0.5345568060874939\n",
            "haridwar\n",
            "alibaug\n",
            "Similarity between haridwar   alibaug  :  0.6304447054862976\n",
            "rishikesh\n",
            "haridwar\n",
            "Similarity between rishikesh   haridwar  :  0.7703390717506409\n",
            "rishikesh\n",
            "rishikesh\n",
            "Similarity between rishikesh   rishikesh  :  1.0\n",
            "rishikesh\n",
            "kedarnath\n",
            "Similarity between rishikesh   kedarnath  :  0.8011359572410583\n",
            "rishikesh\n",
            "chandigarh\n",
            "Similarity between rishikesh   chandigarh  :  0.6052747368812561\n",
            "rishikesh\n",
            "delhi\n",
            "Similarity between rishikesh   delhi  :  0.7522467970848083\n",
            "rishikesh\n",
            "agra\n",
            "Similarity between rishikesh   agra  :  0.6387676000595093\n",
            "rishikesh\n",
            "mumbai\n",
            "Similarity between rishikesh   mumbai  :  0.7863146662712097\n",
            "rishikesh\n",
            "kullu\n",
            "Similarity between rishikesh   kullu  :  0.6989303827285767\n",
            "rishikesh\n",
            "manali\n",
            "Similarity between rishikesh   manali  :  0.7620537877082825\n",
            "rishikesh\n",
            "coorg\n",
            "Similarity between rishikesh   coorg  :  0.8419156670570374\n",
            "rishikesh\n",
            "munnar\n",
            "Similarity between rishikesh   munnar  :  0.6605525016784668\n",
            "rishikesh\n",
            "coonoor\n",
            "Similarity between rishikesh   coonoor  :  0.8195112347602844\n",
            "rishikesh\n",
            "ooty\n",
            "Similarity between rishikesh   ooty  :  0.5274137854576111\n",
            "rishikesh\n",
            "alleppey\n",
            "Similarity between rishikesh   alleppey  :  0.7382922768592834\n",
            "rishikesh\n",
            "alibaug\n",
            "Similarity between rishikesh   alibaug  :  0.693602442741394\n",
            "kedarnath\n",
            "haridwar\n",
            "Similarity between kedarnath   haridwar  :  0.7087153792381287\n",
            "kedarnath\n",
            "rishikesh\n",
            "Similarity between kedarnath   rishikesh  :  0.8011359572410583\n",
            "kedarnath\n",
            "kedarnath\n",
            "Similarity between kedarnath   kedarnath  :  1.0\n",
            "kedarnath\n",
            "chandigarh\n",
            "Similarity between kedarnath   chandigarh  :  0.4766382575035095\n",
            "kedarnath\n",
            "delhi\n",
            "Similarity between kedarnath   delhi  :  0.6688833832740784\n",
            "kedarnath\n",
            "agra\n",
            "Similarity between kedarnath   agra  :  0.5287565588951111\n",
            "kedarnath\n",
            "mumbai\n",
            "Similarity between kedarnath   mumbai  :  0.6718323230743408\n",
            "kedarnath\n",
            "kullu\n",
            "Similarity between kedarnath   kullu  :  0.4670043885707855\n",
            "kedarnath\n",
            "manali\n",
            "Similarity between kedarnath   manali  :  0.625253438949585\n",
            "kedarnath\n",
            "coorg\n",
            "Similarity between kedarnath   coorg  :  0.6567931175231934\n",
            "kedarnath\n",
            "munnar\n",
            "Similarity between kedarnath   munnar  :  0.4187169373035431\n",
            "kedarnath\n",
            "coonoor\n",
            "Similarity between kedarnath   coonoor  :  0.667334258556366\n",
            "kedarnath\n",
            "ooty\n",
            "Similarity between kedarnath   ooty  :  0.529952883720398\n",
            "kedarnath\n",
            "alleppey\n",
            "Similarity between kedarnath   alleppey  :  0.6660733819007874\n",
            "kedarnath\n",
            "alibaug\n",
            "Similarity between kedarnath   alibaug  :  0.7095370292663574\n",
            "chandigarh\n",
            "haridwar\n",
            "Similarity between chandigarh   haridwar  :  0.6845911741256714\n",
            "chandigarh\n",
            "rishikesh\n",
            "Similarity between chandigarh   rishikesh  :  0.6052747368812561\n",
            "chandigarh\n",
            "kedarnath\n",
            "Similarity between chandigarh   kedarnath  :  0.4766382575035095\n",
            "chandigarh\n",
            "chandigarh\n",
            "Similarity between chandigarh   chandigarh  :  1.0\n",
            "chandigarh\n",
            "delhi\n",
            "Similarity between chandigarh   delhi  :  0.7745145559310913\n",
            "chandigarh\n",
            "agra\n",
            "Similarity between chandigarh   agra  :  0.6357249617576599\n",
            "chandigarh\n",
            "mumbai\n",
            "Similarity between chandigarh   mumbai  :  0.7523459196090698\n",
            "chandigarh\n",
            "kullu\n",
            "Similarity between chandigarh   kullu  :  0.7902967929840088\n",
            "chandigarh\n",
            "manali\n",
            "Similarity between chandigarh   manali  :  0.7925564646720886\n",
            "chandigarh\n",
            "coorg\n",
            "Similarity between chandigarh   coorg  :  0.7544962763786316\n",
            "chandigarh\n",
            "munnar\n",
            "Similarity between chandigarh   munnar  :  0.7125000953674316\n",
            "chandigarh\n",
            "coonoor\n",
            "Similarity between chandigarh   coonoor  :  0.6716282963752747\n",
            "chandigarh\n",
            "ooty\n",
            "Similarity between chandigarh   ooty  :  0.7133948802947998\n",
            "chandigarh\n",
            "alleppey\n",
            "Similarity between chandigarh   alleppey  :  0.6687970757484436\n",
            "chandigarh\n",
            "alibaug\n",
            "Similarity between chandigarh   alibaug  :  0.7437320947647095\n",
            "delhi\n",
            "haridwar\n",
            "Similarity between delhi   haridwar  :  0.7516640424728394\n",
            "delhi\n",
            "rishikesh\n",
            "Similarity between delhi   rishikesh  :  0.7522467970848083\n",
            "delhi\n",
            "kedarnath\n",
            "Similarity between delhi   kedarnath  :  0.6688833832740784\n",
            "delhi\n",
            "chandigarh\n",
            "Similarity between delhi   chandigarh  :  0.7745145559310913\n",
            "delhi\n",
            "delhi\n",
            "Similarity between delhi   delhi  :  1.0\n",
            "delhi\n",
            "agra\n",
            "Similarity between delhi   agra  :  0.8392723798751831\n",
            "delhi\n",
            "mumbai\n",
            "Similarity between delhi   mumbai  :  0.8036081194877625\n",
            "delhi\n",
            "kullu\n",
            "Similarity between delhi   kullu  :  0.7605436444282532\n",
            "delhi\n",
            "manali\n",
            "Similarity between delhi   manali  :  0.7876160144805908\n",
            "delhi\n",
            "coorg\n",
            "Similarity between delhi   coorg  :  0.7904910445213318\n",
            "delhi\n",
            "munnar\n",
            "Similarity between delhi   munnar  :  0.6885681748390198\n",
            "delhi\n",
            "coonoor\n",
            "Similarity between delhi   coonoor  :  0.8384160995483398\n",
            "delhi\n",
            "ooty\n",
            "Similarity between delhi   ooty  :  0.734475314617157\n",
            "delhi\n",
            "alleppey\n",
            "Similarity between delhi   alleppey  :  0.7189079523086548\n",
            "delhi\n",
            "alibaug\n",
            "Similarity between delhi   alibaug  :  0.8370879888534546\n",
            "agra\n",
            "haridwar\n",
            "Similarity between agra   haridwar  :  0.49946948885917664\n",
            "agra\n",
            "rishikesh\n",
            "Similarity between agra   rishikesh  :  0.6387676000595093\n",
            "agra\n",
            "kedarnath\n",
            "Similarity between agra   kedarnath  :  0.5287565588951111\n",
            "agra\n",
            "chandigarh\n",
            "Similarity between agra   chandigarh  :  0.6357249617576599\n",
            "agra\n",
            "delhi\n",
            "Similarity between agra   delhi  :  0.8392723798751831\n",
            "agra\n",
            "agra\n",
            "Similarity between agra   agra  :  1.0\n",
            "agra\n",
            "mumbai\n",
            "Similarity between agra   mumbai  :  0.7913066148757935\n",
            "agra\n",
            "kullu\n",
            "Similarity between agra   kullu  :  0.671586811542511\n",
            "agra\n",
            "manali\n",
            "Similarity between agra   manali  :  0.6962725520133972\n",
            "agra\n",
            "coorg\n",
            "Similarity between agra   coorg  :  0.7323262095451355\n",
            "agra\n",
            "munnar\n",
            "Similarity between agra   munnar  :  0.7302628755569458\n",
            "agra\n",
            "coonoor\n",
            "Similarity between agra   coonoor  :  0.7767373323440552\n",
            "agra\n",
            "ooty\n",
            "Similarity between agra   ooty  :  0.7021840810775757\n",
            "agra\n",
            "alleppey\n",
            "Similarity between agra   alleppey  :  0.728641927242279\n",
            "agra\n",
            "alibaug\n",
            "Similarity between agra   alibaug  :  0.8169478178024292\n",
            "mumbai\n",
            "haridwar\n",
            "Similarity between mumbai   haridwar  :  0.6074720025062561\n",
            "mumbai\n",
            "rishikesh\n",
            "Similarity between mumbai   rishikesh  :  0.7863146662712097\n",
            "mumbai\n",
            "kedarnath\n",
            "Similarity between mumbai   kedarnath  :  0.6718323230743408\n",
            "mumbai\n",
            "chandigarh\n",
            "Similarity between mumbai   chandigarh  :  0.7523459196090698\n",
            "mumbai\n",
            "delhi\n",
            "Similarity between mumbai   delhi  :  0.8036081194877625\n",
            "mumbai\n",
            "agra\n",
            "Similarity between mumbai   agra  :  0.7913066148757935\n",
            "mumbai\n",
            "mumbai\n",
            "Similarity between mumbai   mumbai  :  1.0\n",
            "mumbai\n",
            "kullu\n",
            "Similarity between mumbai   kullu  :  0.6676136255264282\n",
            "mumbai\n",
            "manali\n",
            "Similarity between mumbai   manali  :  0.7864956855773926\n",
            "mumbai\n",
            "coorg\n",
            "Similarity between mumbai   coorg  :  0.8193958401679993\n",
            "mumbai\n",
            "munnar\n",
            "Similarity between mumbai   munnar  :  0.778599202632904\n",
            "mumbai\n",
            "coonoor\n",
            "Similarity between mumbai   coonoor  :  0.7994865775108337\n",
            "mumbai\n",
            "ooty\n",
            "Similarity between mumbai   ooty  :  0.5841665267944336\n",
            "mumbai\n",
            "alleppey\n",
            "Similarity between mumbai   alleppey  :  0.8350042104721069\n",
            "mumbai\n",
            "alibaug\n",
            "Similarity between mumbai   alibaug  :  0.8608835935592651\n",
            "kullu\n",
            "haridwar\n",
            "Similarity between kullu   haridwar  :  0.7648805975914001\n",
            "kullu\n",
            "rishikesh\n",
            "Similarity between kullu   rishikesh  :  0.6989303827285767\n",
            "kullu\n",
            "kedarnath\n",
            "Similarity between kullu   kedarnath  :  0.4670043885707855\n",
            "kullu\n",
            "chandigarh\n",
            "Similarity between kullu   chandigarh  :  0.7902967929840088\n",
            "kullu\n",
            "delhi\n",
            "Similarity between kullu   delhi  :  0.7605436444282532\n",
            "kullu\n",
            "agra\n",
            "Similarity between kullu   agra  :  0.671586811542511\n",
            "kullu\n",
            "mumbai\n",
            "Similarity between kullu   mumbai  :  0.6676136255264282\n",
            "kullu\n",
            "kullu\n",
            "Similarity between kullu   kullu  :  1.0\n",
            "kullu\n",
            "manali\n",
            "Similarity between kullu   manali  :  0.8403006792068481\n",
            "kullu\n",
            "coorg\n",
            "Similarity between kullu   coorg  :  0.8136448860168457\n",
            "kullu\n",
            "munnar\n",
            "Similarity between kullu   munnar  :  0.5923253893852234\n",
            "kullu\n",
            "coonoor\n",
            "Similarity between kullu   coonoor  :  0.735115110874176\n",
            "kullu\n",
            "ooty\n",
            "Similarity between kullu   ooty  :  0.639893114566803\n",
            "kullu\n",
            "alleppey\n",
            "Similarity between kullu   alleppey  :  0.5600156188011169\n",
            "kullu\n",
            "alibaug\n",
            "Similarity between kullu   alibaug  :  0.6145462989807129\n",
            "manali\n",
            "haridwar\n",
            "Similarity between manali   haridwar  :  0.721454381942749\n",
            "manali\n",
            "rishikesh\n",
            "Similarity between manali   rishikesh  :  0.7620537877082825\n",
            "manali\n",
            "kedarnath\n",
            "Similarity between manali   kedarnath  :  0.625253438949585\n",
            "manali\n",
            "chandigarh\n",
            "Similarity between manali   chandigarh  :  0.7925564646720886\n",
            "manali\n",
            "delhi\n",
            "Similarity between manali   delhi  :  0.7876160144805908\n",
            "manali\n",
            "agra\n",
            "Similarity between manali   agra  :  0.6962725520133972\n",
            "manali\n",
            "mumbai\n",
            "Similarity between manali   mumbai  :  0.7864956855773926\n",
            "manali\n",
            "kullu\n",
            "Similarity between manali   kullu  :  0.8403006792068481\n",
            "manali\n",
            "manali\n",
            "Similarity between manali   manali  :  1.0\n",
            "manali\n",
            "coorg\n",
            "Similarity between manali   coorg  :  0.7837926745414734\n",
            "manali\n",
            "munnar\n",
            "Similarity between manali   munnar  :  0.68337082862854\n",
            "manali\n",
            "coonoor\n",
            "Similarity between manali   coonoor  :  0.7368267774581909\n",
            "manali\n",
            "ooty\n",
            "Similarity between manali   ooty  :  0.6136147379875183\n",
            "manali\n",
            "alleppey\n",
            "Similarity between manali   alleppey  :  0.63945072889328\n",
            "manali\n",
            "alibaug\n",
            "Similarity between manali   alibaug  :  0.6755790710449219\n",
            "coorg\n",
            "haridwar\n",
            "Similarity between coorg   haridwar  :  0.7315784096717834\n",
            "coorg\n",
            "rishikesh\n",
            "Similarity between coorg   rishikesh  :  0.8419156670570374\n",
            "coorg\n",
            "kedarnath\n",
            "Similarity between coorg   kedarnath  :  0.6567931175231934\n",
            "coorg\n",
            "chandigarh\n",
            "Similarity between coorg   chandigarh  :  0.7544962763786316\n",
            "coorg\n",
            "delhi\n",
            "Similarity between coorg   delhi  :  0.7904910445213318\n",
            "coorg\n",
            "agra\n",
            "Similarity between coorg   agra  :  0.7323262095451355\n",
            "coorg\n",
            "mumbai\n",
            "Similarity between coorg   mumbai  :  0.8193958401679993\n",
            "coorg\n",
            "kullu\n",
            "Similarity between coorg   kullu  :  0.8136448860168457\n",
            "coorg\n",
            "manali\n",
            "Similarity between coorg   manali  :  0.7837926745414734\n",
            "coorg\n",
            "coorg\n",
            "Similarity between coorg   coorg  :  1.0\n",
            "coorg\n",
            "munnar\n",
            "Similarity between coorg   munnar  :  0.7804700136184692\n",
            "coorg\n",
            "coonoor\n",
            "Similarity between coorg   coonoor  :  0.8545098900794983\n",
            "coorg\n",
            "ooty\n",
            "Similarity between coorg   ooty  :  0.6217930912971497\n",
            "coorg\n",
            "alleppey\n",
            "Similarity between coorg   alleppey  :  0.8465602993965149\n",
            "coorg\n",
            "alibaug\n",
            "Similarity between coorg   alibaug  :  0.7908653020858765\n",
            "munnar\n",
            "haridwar\n",
            "Similarity between munnar   haridwar  :  0.45219722390174866\n",
            "munnar\n",
            "rishikesh\n",
            "Similarity between munnar   rishikesh  :  0.6605525016784668\n",
            "munnar\n",
            "kedarnath\n",
            "Similarity between munnar   kedarnath  :  0.4187169373035431\n",
            "munnar\n",
            "chandigarh\n",
            "Similarity between munnar   chandigarh  :  0.7125000953674316\n",
            "munnar\n",
            "delhi\n",
            "Similarity between munnar   delhi  :  0.6885681748390198\n",
            "munnar\n",
            "agra\n",
            "Similarity between munnar   agra  :  0.7302628755569458\n",
            "munnar\n",
            "mumbai\n",
            "Similarity between munnar   mumbai  :  0.778599202632904\n",
            "munnar\n",
            "kullu\n",
            "Similarity between munnar   kullu  :  0.5923253893852234\n",
            "munnar\n",
            "manali\n",
            "Similarity between munnar   manali  :  0.68337082862854\n",
            "munnar\n",
            "coorg\n",
            "Similarity between munnar   coorg  :  0.7804700136184692\n",
            "munnar\n",
            "munnar\n",
            "Similarity between munnar   munnar  :  1.0\n",
            "munnar\n",
            "coonoor\n",
            "Similarity between munnar   coonoor  :  0.771305501461029\n",
            "munnar\n",
            "ooty\n",
            "Similarity between munnar   ooty  :  0.6842653751373291\n",
            "munnar\n",
            "alleppey\n",
            "Similarity between munnar   alleppey  :  0.8295398950576782\n",
            "munnar\n",
            "alibaug\n",
            "Similarity between munnar   alibaug  :  0.7470284700393677\n",
            "coonoor\n",
            "haridwar\n",
            "Similarity between coonoor   haridwar  :  0.6701664924621582\n",
            "coonoor\n",
            "rishikesh\n",
            "Similarity between coonoor   rishikesh  :  0.8195112347602844\n",
            "coonoor\n",
            "kedarnath\n",
            "Similarity between coonoor   kedarnath  :  0.667334258556366\n",
            "coonoor\n",
            "chandigarh\n",
            "Similarity between coonoor   chandigarh  :  0.6716282963752747\n",
            "coonoor\n",
            "delhi\n",
            "Similarity between coonoor   delhi  :  0.8384160995483398\n",
            "coonoor\n",
            "agra\n",
            "Similarity between coonoor   agra  :  0.7767373323440552\n",
            "coonoor\n",
            "mumbai\n",
            "Similarity between coonoor   mumbai  :  0.7994865775108337\n",
            "coonoor\n",
            "kullu\n",
            "Similarity between coonoor   kullu  :  0.735115110874176\n",
            "coonoor\n",
            "manali\n",
            "Similarity between coonoor   manali  :  0.7368267774581909\n",
            "coonoor\n",
            "coorg\n",
            "Similarity between coonoor   coorg  :  0.8545098900794983\n",
            "coonoor\n",
            "munnar\n",
            "Similarity between coonoor   munnar  :  0.771305501461029\n",
            "coonoor\n",
            "coonoor\n",
            "Similarity between coonoor   coonoor  :  1.0\n",
            "coonoor\n",
            "ooty\n",
            "Similarity between coonoor   ooty  :  0.7502526640892029\n",
            "coonoor\n",
            "alleppey\n",
            "Similarity between coonoor   alleppey  :  0.7931900024414062\n",
            "coonoor\n",
            "alibaug\n",
            "Similarity between coonoor   alibaug  :  0.7830899953842163\n",
            "ooty\n",
            "haridwar\n",
            "Similarity between ooty   haridwar  :  0.5336219668388367\n",
            "ooty\n",
            "rishikesh\n",
            "Similarity between ooty   rishikesh  :  0.5274137854576111\n",
            "ooty\n",
            "kedarnath\n",
            "Similarity between ooty   kedarnath  :  0.529952883720398\n",
            "ooty\n",
            "chandigarh\n",
            "Similarity between ooty   chandigarh  :  0.7133948802947998\n",
            "ooty\n",
            "delhi\n",
            "Similarity between ooty   delhi  :  0.734475314617157\n",
            "ooty\n",
            "agra\n",
            "Similarity between ooty   agra  :  0.7021840810775757\n",
            "ooty\n",
            "mumbai\n",
            "Similarity between ooty   mumbai  :  0.5841665267944336\n",
            "ooty\n",
            "kullu\n",
            "Similarity between ooty   kullu  :  0.639893114566803\n",
            "ooty\n",
            "manali\n",
            "Similarity between ooty   manali  :  0.6136147379875183\n",
            "ooty\n",
            "coorg\n",
            "Similarity between ooty   coorg  :  0.6217930912971497\n",
            "ooty\n",
            "munnar\n",
            "Similarity between ooty   munnar  :  0.6842653751373291\n",
            "ooty\n",
            "coonoor\n",
            "Similarity between ooty   coonoor  :  0.7502526640892029\n",
            "ooty\n",
            "ooty\n",
            "Similarity between ooty   ooty  :  1.0\n",
            "ooty\n",
            "alleppey\n",
            "Similarity between ooty   alleppey  :  0.7121966481208801\n",
            "ooty\n",
            "alibaug\n",
            "Similarity between ooty   alibaug  :  0.7869458198547363\n",
            "alleppey\n",
            "haridwar\n",
            "Similarity between alleppey   haridwar  :  0.5345568060874939\n",
            "alleppey\n",
            "rishikesh\n",
            "Similarity between alleppey   rishikesh  :  0.7382922768592834\n",
            "alleppey\n",
            "kedarnath\n",
            "Similarity between alleppey   kedarnath  :  0.6660733819007874\n",
            "alleppey\n",
            "chandigarh\n",
            "Similarity between alleppey   chandigarh  :  0.6687970757484436\n",
            "alleppey\n",
            "delhi\n",
            "Similarity between alleppey   delhi  :  0.7189079523086548\n",
            "alleppey\n",
            "agra\n",
            "Similarity between alleppey   agra  :  0.728641927242279\n",
            "alleppey\n",
            "mumbai\n",
            "Similarity between alleppey   mumbai  :  0.8350042104721069\n",
            "alleppey\n",
            "kullu\n",
            "Similarity between alleppey   kullu  :  0.5600156188011169\n",
            "alleppey\n",
            "manali\n",
            "Similarity between alleppey   manali  :  0.63945072889328\n",
            "alleppey\n",
            "coorg\n",
            "Similarity between alleppey   coorg  :  0.8465602993965149\n",
            "alleppey\n",
            "munnar\n",
            "Similarity between alleppey   munnar  :  0.8295398950576782\n",
            "alleppey\n",
            "coonoor\n",
            "Similarity between alleppey   coonoor  :  0.7931900024414062\n",
            "alleppey\n",
            "ooty\n",
            "Similarity between alleppey   ooty  :  0.7121966481208801\n",
            "alleppey\n",
            "alleppey\n",
            "Similarity between alleppey   alleppey  :  1.0\n",
            "alleppey\n",
            "alibaug\n",
            "Similarity between alleppey   alibaug  :  0.9061739444732666\n",
            "alibaug\n",
            "haridwar\n",
            "Similarity between alibaug   haridwar  :  0.6304447054862976\n",
            "alibaug\n",
            "rishikesh\n",
            "Similarity between alibaug   rishikesh  :  0.693602442741394\n",
            "alibaug\n",
            "kedarnath\n",
            "Similarity between alibaug   kedarnath  :  0.7095370292663574\n",
            "alibaug\n",
            "chandigarh\n",
            "Similarity between alibaug   chandigarh  :  0.7437320947647095\n",
            "alibaug\n",
            "delhi\n",
            "Similarity between alibaug   delhi  :  0.8370879888534546\n",
            "alibaug\n",
            "agra\n",
            "Similarity between alibaug   agra  :  0.8169478178024292\n",
            "alibaug\n",
            "mumbai\n",
            "Similarity between alibaug   mumbai  :  0.8608835935592651\n",
            "alibaug\n",
            "kullu\n",
            "Similarity between alibaug   kullu  :  0.6145462989807129\n",
            "alibaug\n",
            "manali\n",
            "Similarity between alibaug   manali  :  0.6755790710449219\n",
            "alibaug\n",
            "coorg\n",
            "Similarity between alibaug   coorg  :  0.7908653020858765\n",
            "alibaug\n",
            "munnar\n",
            "Similarity between alibaug   munnar  :  0.7470284700393677\n",
            "alibaug\n",
            "coonoor\n",
            "Similarity between alibaug   coonoor  :  0.7830899953842163\n",
            "alibaug\n",
            "ooty\n",
            "Similarity between alibaug   ooty  :  0.7869458198547363\n",
            "alibaug\n",
            "alleppey\n",
            "Similarity between alibaug   alleppey  :  0.9061739444732666\n",
            "alibaug\n",
            "alibaug\n",
            "Similarity between alibaug   alibaug  :  1.0\n",
            "time: 30.4 s (started: 2021-05-05 14:48:21 +00:00)\n"
          ],
          "name": "stdout"
        }
      ]
    },
    {
      "cell_type": "code",
      "metadata": {
        "id": "p7sdPUMUXJdv",
        "colab": {
          "base_uri": "https://localhost:8080/",
          "height": 605
        },
        "outputId": "60f9a225-5e6e-4a65-90a6-c83506071dad"
      },
      "source": [
        "import matplotlib.pyplot as plt\n",
        "fig, ax = plt.subplots(figsize=(13,9))\n",
        "cax = ax.matshow(similarity_scores, interpolation='nearest',cmap='RdYlGn')\n",
        "ax.grid(True)\n",
        "plt.xticks(range(len(queries)), queries, rotation=90);\n",
        "plt.yticks(range(len(queries)), queries);\n",
        "fig.colorbar(cax, ticks=[  0.5, 0.6, 0.7, .75,.80,0.85,0.90,0.95,1])\n",
        "plt.show()"
      ],
      "execution_count": 28,
      "outputs": [
        {
          "output_type": "display_data",
          "data": {
            "image/png": "[encoded data removed]",
            "text/plain": [
              "<Figure size 936x648 with 2 Axes>"
            ]
          },
          "metadata": {
            "tags": [],
            "needs_background": "light"
          }
        },
        {
          "output_type": "stream",
          "text": [
            "time: 393 ms (started: 2021-05-05 14:54:13 +00:00)\n"
          ],
          "name": "stdout"
        }
      ]
    },
    {
      "cell_type": "code",
      "metadata": {
        "id": "RGtGF8YUuacb"
      },
      "source": [
        ""
      ],
      "execution_count": null,
      "outputs": []
    }
  ]
}